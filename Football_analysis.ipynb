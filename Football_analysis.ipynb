{
 "cells": [
  {
   "cell_type": "markdown",
   "metadata": {},
   "source": [
    "### Введение. Постановка задач.\n",
    "\n",
    "2017 год. Частный инвестор ищет команду аналитиков, способных разгадать ход игры\n",
    "\n",
    "Задачи в рамках Python:\n",
    "\n",
    "1.\tС помощью статистических методов определить 2-3 ключевые характеристики, которые критически влияют на исход матча.\n",
    "\n",
    "2.\tПодготовить базы данных для присоединения к дашборду."
   ]
  },
  {
   "cell_type": "code",
   "execution_count": 56,
   "metadata": {},
   "outputs": [],
   "source": [
    "# Импорт необходимых библиотек\n",
    "import pandas as pd\n",
    "import numpy as np\n",
    "from sklearn.preprocessing import MinMaxScaler\n",
    "import matplotlib.pyplot as plt\n",
    "import seaborn as sns"
   ]
  },
  {
   "cell_type": "code",
   "execution_count": 57,
   "metadata": {},
   "outputs": [],
   "source": [
    "# Загрузка датасетов с информацией о матчах, командах и игроках\n",
    "Match = pd.read_csv('Match.csv')\n",
    "Team = pd.read_csv('Team.csv')\n",
    "Player = pd.read_csv('Player.csv')"
   ]
  },
  {
   "cell_type": "markdown",
   "metadata": {},
   "source": [
    "### 1. Таблица Match. Первая ключевая характеристика - результативность."
   ]
  },
  {
   "cell_type": "code",
   "execution_count": 58,
   "metadata": {},
   "outputs": [
    {
     "name": "stdout",
     "output_type": "stream",
     "text": [
      "<class 'pandas.core.frame.DataFrame'>\n",
      "RangeIndex: 25979 entries, 0 to 25978\n",
      "Data columns (total 13 columns):\n",
      " #   Column                Non-Null Count  Dtype \n",
      "---  ------                --------------  ----- \n",
      " 0   match_api_id          25979 non-null  int64 \n",
      " 1   country_league_id     25979 non-null  int64 \n",
      " 2   country_name          25979 non-null  object\n",
      " 3   league_name           25979 non-null  object\n",
      " 4   season                25979 non-null  object\n",
      " 5   home_team_api_id      25979 non-null  int64 \n",
      " 6   home_team_long_name   25979 non-null  object\n",
      " 7   home_team_short_name  25979 non-null  object\n",
      " 8   away_team_api_id      25979 non-null  int64 \n",
      " 9   away_team_long_name   25979 non-null  object\n",
      " 10  away_team_short_name  25979 non-null  object\n",
      " 11  home_team_goal        25979 non-null  int64 \n",
      " 12  away_team_goal        25979 non-null  int64 \n",
      "dtypes: int64(6), object(7)\n",
      "memory usage: 2.6+ MB\n"
     ]
    }
   ],
   "source": [
    "#Проверка загруженных данных\n",
    "Match.info()"
   ]
  },
  {
   "cell_type": "markdown",
   "metadata": {},
   "source": [
    "##### Вывод: \n",
    "Таблица содержит информацию о 25 979 матчах и состоит из 13 столбцов. Пропуски в данных отсутствуют."
   ]
  },
  {
   "cell_type": "code",
   "execution_count": 59,
   "metadata": {},
   "outputs": [
    {
     "data": {
      "text/html": [
       "<div>\n",
       "<style scoped>\n",
       "    .dataframe tbody tr th:only-of-type {\n",
       "        vertical-align: middle;\n",
       "    }\n",
       "\n",
       "    .dataframe tbody tr th {\n",
       "        vertical-align: top;\n",
       "    }\n",
       "\n",
       "    .dataframe thead th {\n",
       "        text-align: right;\n",
       "    }\n",
       "</style>\n",
       "<table border=\"1\" class=\"dataframe\">\n",
       "  <thead>\n",
       "    <tr style=\"text-align: right;\">\n",
       "      <th></th>\n",
       "      <th>match_api_id</th>\n",
       "      <th>country_league_id</th>\n",
       "      <th>country_name</th>\n",
       "      <th>league_name</th>\n",
       "      <th>season</th>\n",
       "      <th>home_team_api_id</th>\n",
       "      <th>home_team_long_name</th>\n",
       "      <th>home_team_short_name</th>\n",
       "      <th>away_team_api_id</th>\n",
       "      <th>away_team_long_name</th>\n",
       "      <th>away_team_short_name</th>\n",
       "      <th>home_team_goal</th>\n",
       "      <th>away_team_goal</th>\n",
       "    </tr>\n",
       "  </thead>\n",
       "  <tbody>\n",
       "  </tbody>\n",
       "</table>\n",
       "</div>"
      ],
      "text/plain": [
       "Empty DataFrame\n",
       "Columns: [match_api_id, country_league_id, country_name, league_name, season, home_team_api_id, home_team_long_name, home_team_short_name, away_team_api_id, away_team_long_name, away_team_short_name, home_team_goal, away_team_goal]\n",
       "Index: []"
      ]
     },
     "execution_count": 59,
     "metadata": {},
     "output_type": "execute_result"
    }
   ],
   "source": [
    "#Проверка на дубли\n",
    "Match[Match.duplicated()]"
   ]
  },
  {
   "cell_type": "markdown",
   "metadata": {},
   "source": [
    "##### Вывод: \n",
    "Дублирование данных отсутствует."
   ]
  },
  {
   "cell_type": "code",
   "execution_count": 60,
   "metadata": {},
   "outputs": [
    {
     "name": "stderr",
     "output_type": "stream",
     "text": [
      "C:\\ProgramData\\Anaconda3\\lib\\site-packages\\pandas\\core\\frame.py:4296: SettingWithCopyWarning: \n",
      "A value is trying to be set on a copy of a slice from a DataFrame\n",
      "\n",
      "See the caveats in the documentation: https://pandas.pydata.org/pandas-docs/stable/user_guide/indexing.html#returning-a-view-versus-a-copy\n",
      "  return super().rename(\n"
     ]
    }
   ],
   "source": [
    "#Добавление счетчика количества матчей и информации о заработанных баллах  \n",
    "Match['Points_home'] = Match.apply(lambda row: 3 if row['home_team_goal']>row['away_team_goal'] else \n",
    "                                (1 if row['home_team_goal'] == row['away_team_goal'] else 0), axis=1)\n",
    "Match['Points_away'] = Match.apply(lambda row: 3 if row['away_team_goal']>row['home_team_goal'] else \n",
    "                                (1 if row['away_team_goal'] == row['home_team_goal'] else 0) , axis=1)\n",
    "Match['Count_match'] = 1\n",
    "\n",
    "# Разделение таблицы на домашние и гостевые матчи\n",
    "df_home = Match[['season', 'home_team_api_id', 'home_team_long_name','home_team_short_name', 'country_league_id',\"league_name\", 'Points_home', 'Count_match']]\n",
    "df_home.rename(columns= {'home_team_api_id':'team_api_id', \n",
    "                         'home_team_long_name':'team_long_name', \n",
    "                         'home_team_short_name':'team_short_name',\n",
    "                         'Points_home':'Points'}, inplace=True) #переименование столбцов\n",
    "\n",
    "\n",
    "df_away = Match[['season',  'away_team_api_id', 'away_team_long_name','away_team_short_name', 'country_league_id', \"league_name\", 'Points_away', 'Count_match']]\n",
    "df_away.rename(columns= {'away_team_api_id':'team_api_id', \n",
    "                         'away_team_long_name':'team_long_name', \n",
    "                         'away_team_short_name':'team_short_name',\n",
    "                         'Points_away':'Points'}, inplace=True)#переименование столбцов\n",
    "\n",
    "#Группировка матчей по сезонам и командам, добавление столбца Place - место проведения игры\n",
    "def group_table(d):\n",
    "    df = d.groupby(['season','team_api_id', 'team_long_name','team_short_name', 'country_league_id', \"league_name\"]).sum()\n",
    "    df.reset_index(inplace= True)\n",
    "    df.sort_values(by= 'team_api_id', inplace=True)\n",
    "    return df\n",
    "\n",
    "home = group_table(df_home)\n",
    "home['Place'] = 'home'\n",
    "\n",
    "away = group_table(df_away)\n",
    "away['Place'] = 'away'\n",
    "\n",
    "#Объединение таблиц\n",
    "df_match = pd.concat([home, away])\n",
    "\n",
    "#Загружаем информацию о рейтинг лиг в разные сезоны и добавляем к таблице \n",
    "league_rating = pd.read_csv('Country.csv')\n",
    "df_match = pd.merge(df_match, league_rating, on = ['country_league_id', 'season'], how = 'left') \n",
    "\n",
    "#Расчет среднего балла за сезон, скорректированного на рейтинг лиги\n",
    "df_match['avg_score'] = df_match.apply(lambda row: (row['Points']/row['Count_match'])*row['league_rating'], axis=1)\n",
    "\n",
    "#Cохраняем только нужные для дашборда столбцы\n",
    "data_1 = df_match[['season', 'team_api_id', 'team_long_name', 'team_short_name', 'Points', 'Count_match', 'avg_score', 'Place', \n",
    "                   \"league_name\", 'league_rating']]"
   ]
  },
  {
   "cell_type": "markdown",
   "metadata": {},
   "source": [
    "### 2. Таблица Team. Вторая ключевая характеристика - общий балл команды.\n",
    "\n",
    "#### 2.1 Предобработка данных"
   ]
  },
  {
   "cell_type": "code",
   "execution_count": 61,
   "metadata": {},
   "outputs": [
    {
     "name": "stdout",
     "output_type": "stream",
     "text": [
      "<class 'pandas.core.frame.DataFrame'>\n",
      "RangeIndex: 1457 entries, 0 to 1456\n",
      "Data columns (total 28 columns):\n",
      " #   Column                          Non-Null Count  Dtype  \n",
      "---  ------                          --------------  -----  \n",
      " 0   team_api_id                     1457 non-null   int64  \n",
      " 1   team_long_name                  1457 non-null   object \n",
      " 2   team_short_name                 1457 non-null   object \n",
      " 3   country_name                    1457 non-null   object \n",
      " 4   league_name                     1457 non-null   object \n",
      " 5   date                            1457 non-null   object \n",
      " 6   buildUpPlaySpeed                1457 non-null   int64  \n",
      " 7   buildUpPlaySpeedClass           1457 non-null   object \n",
      " 8   buildUpPlayDribbling            488 non-null    float64\n",
      " 9   buildUpPlayDribblingClass       1457 non-null   object \n",
      " 10  buildUpPlayPassing              1457 non-null   int64  \n",
      " 11  buildUpPlayPassingClass         1457 non-null   object \n",
      " 12  buildUpPlayPositioningClass     1457 non-null   object \n",
      " 13  chanceCreationPassing           1457 non-null   int64  \n",
      " 14  chanceCreationPassingClass      1457 non-null   object \n",
      " 15  chanceCreationCrossing          1457 non-null   int64  \n",
      " 16  chanceCreationCrossingClass     1457 non-null   object \n",
      " 17  chanceCreationShooting          1457 non-null   int64  \n",
      " 18  chanceCreationShootingClass     1457 non-null   object \n",
      " 19  chanceCreationPositioningClass  1457 non-null   object \n",
      " 20  defencePressure                 1457 non-null   int64  \n",
      " 21  defencePressureClass            1457 non-null   object \n",
      " 22  defenceAggression               1457 non-null   int64  \n",
      " 23  defenceAggressionClass          1457 non-null   object \n",
      " 24  defenceTeamWidth                1457 non-null   int64  \n",
      " 25  defenceTeamWidthClass           1457 non-null   object \n",
      " 26  defenceDefenderLineClass        1457 non-null   object \n",
      " 27  season                          1457 non-null   object \n",
      "dtypes: float64(1), int64(9), object(18)\n",
      "memory usage: 318.8+ KB\n"
     ]
    }
   ],
   "source": [
    "#Проверка загруженных данных\n",
    "Team.info()"
   ]
  },
  {
   "cell_type": "markdown",
   "metadata": {},
   "source": [
    "##### Вывод: \n",
    "Таблица состоит из 1457 строк и 28 столбцов. \n",
    "В столбцe \"buildUpPlayDribbling\" присутсвуют пропуски, необходимо проведение предобработки данных."
   ]
  },
  {
   "cell_type": "code",
   "execution_count": 62,
   "metadata": {},
   "outputs": [
    {
     "data": {
      "text/html": [
       "<div>\n",
       "<style scoped>\n",
       "    .dataframe tbody tr th:only-of-type {\n",
       "        vertical-align: middle;\n",
       "    }\n",
       "\n",
       "    .dataframe tbody tr th {\n",
       "        vertical-align: top;\n",
       "    }\n",
       "\n",
       "    .dataframe thead th {\n",
       "        text-align: right;\n",
       "    }\n",
       "</style>\n",
       "<table border=\"1\" class=\"dataframe\">\n",
       "  <thead>\n",
       "    <tr style=\"text-align: right;\">\n",
       "      <th></th>\n",
       "      <th>team_api_id</th>\n",
       "      <th>team_long_name</th>\n",
       "      <th>team_short_name</th>\n",
       "      <th>country_name</th>\n",
       "      <th>league_name</th>\n",
       "      <th>date</th>\n",
       "      <th>buildUpPlaySpeed</th>\n",
       "      <th>buildUpPlaySpeedClass</th>\n",
       "      <th>buildUpPlayDribbling</th>\n",
       "      <th>buildUpPlayDribblingClass</th>\n",
       "      <th>...</th>\n",
       "      <th>chanceCreationShootingClass</th>\n",
       "      <th>chanceCreationPositioningClass</th>\n",
       "      <th>defencePressure</th>\n",
       "      <th>defencePressureClass</th>\n",
       "      <th>defenceAggression</th>\n",
       "      <th>defenceAggressionClass</th>\n",
       "      <th>defenceTeamWidth</th>\n",
       "      <th>defenceTeamWidthClass</th>\n",
       "      <th>defenceDefenderLineClass</th>\n",
       "      <th>season</th>\n",
       "    </tr>\n",
       "  </thead>\n",
       "  <tbody>\n",
       "  </tbody>\n",
       "</table>\n",
       "<p>0 rows × 28 columns</p>\n",
       "</div>"
      ],
      "text/plain": [
       "Empty DataFrame\n",
       "Columns: [team_api_id, team_long_name, team_short_name, country_name, league_name, date, buildUpPlaySpeed, buildUpPlaySpeedClass, buildUpPlayDribbling, buildUpPlayDribblingClass, buildUpPlayPassing, buildUpPlayPassingClass, buildUpPlayPositioningClass, chanceCreationPassing, chanceCreationPassingClass, chanceCreationCrossing, chanceCreationCrossingClass, chanceCreationShooting, chanceCreationShootingClass, chanceCreationPositioningClass, defencePressure, defencePressureClass, defenceAggression, defenceAggressionClass, defenceTeamWidth, defenceTeamWidthClass, defenceDefenderLineClass, season]\n",
       "Index: []\n",
       "\n",
       "[0 rows x 28 columns]"
      ]
     },
     "execution_count": 62,
     "metadata": {},
     "output_type": "execute_result"
    }
   ],
   "source": [
    "#Проверка на дубли\n",
    "Team[Team.duplicated()]"
   ]
  },
  {
   "cell_type": "markdown",
   "metadata": {},
   "source": [
    "##### Вывод: \n",
    "Дублирование данных отсутствует."
   ]
  },
  {
   "cell_type": "code",
   "execution_count": 63,
   "metadata": {},
   "outputs": [],
   "source": [
    "#Анализ пропусков\n",
    "Team[Team[\"buildUpPlayDribbling\"].isna()][\"buildUpPlayDribblingClass\"].value_counts()\n",
    "\n",
    "#Замена пропусков\n",
    "Team[\"buildUpPlayDribbling\"].fillna(Team[Team[\"buildUpPlayDribblingClass\"] == \"Little\"][\"buildUpPlayDribbling\"].mean(), \n",
    "                                    inplace=True)"
   ]
  },
  {
   "cell_type": "markdown",
   "metadata": {},
   "source": [
    "##### Вывод: \n",
    "В ходе анализа выявлено 969 пропусков по столбцу \"buildUpPlayDribbling\", по категории little из столбца \"buildUpPlayDribblingClass\".\n",
    "В связи с этим пропуски заменены средним значением категории little.\n"
   ]
  },
  {
   "cell_type": "markdown",
   "metadata": {},
   "source": [
    "#### 2.2 Подготовка базы данных для присоединения к дашборду."
   ]
  },
  {
   "cell_type": "code",
   "execution_count": 64,
   "metadata": {},
   "outputs": [],
   "source": [
    "#Удаление столбцов, не участвующих в анализе\n",
    "Team.drop(columns= [\"buildUpPlaySpeedClass\", \"buildUpPlayDribblingClass\", \"buildUpPlayPassingClass\", \"buildUpPlayPositioningClass\", \n",
    "                    \"chanceCreationCrossingClass\", \"chanceCreationShootingClass\", \"chanceCreationPositioningClass\", \"chanceCreationPassing\", \"chanceCreationPassingClass\", \n",
    "                     \"defencePressureClass\", \"defenceAggressionClass\", \"defenceDefenderLineClass\", \"defenceTeamWidth\", \"defenceTeamWidthClass\"], inplace= True)\n",
    "\n",
    "#Подсчет рейтинга команды по показателям:\n",
    "''' 1. Показатели тактики команды в атаке - скорость атаки команды, уровень дриблинга команды в нападении, уровень передач в атаке\n",
    "2. Показатели тактики команды при создании голевых моментов - количество навесов в штрафной зоне, количество ударов по воротам\n",
    "3. Показатели тактики команды в обороне - прессинг в обороне, агрессивность в обороне '''\n",
    "\n",
    "Team[\"Team_rating\"] = Team.apply(lambda row:((row['buildUpPlaySpeed']+row['buildUpPlayPassing'] + row[\"buildUpPlayDribbling\"])/3)*0.34\n",
    "                                 + ((row['chanceCreationCrossing'] + row['chanceCreationShooting'])/2)*0.33\n",
    "                                + ((row['defencePressure'] + row['defenceAggression'])/2) *0.33,\n",
    "                                 axis=1)\n",
    "\n",
    "#Нахождение среднего рейтинга команд в разрезе сезонов \n",
    "df_team = Team.groupby(['season','team_api_id', 'team_long_name','team_short_name']).mean()\n",
    "df_team.reset_index(inplace= True)\n",
    "df_team.sort_values(by= ['team_api_id', 'season'], inplace=True)\n",
    "\n",
    "\n",
    "#Cохраняем только нужные для дашборда столбцы\n",
    "data_2 = df_team[['season', 'team_api_id', 'Team_rating']]"
   ]
  },
  {
   "cell_type": "markdown",
   "metadata": {},
   "source": [
    "### 3. Таблица Player. Третья ключевая характеристика - средний балл игроков команды.\n",
    "\n",
    "#### 3.1 Предобработка данных"
   ]
  },
  {
   "cell_type": "code",
   "execution_count": 65,
   "metadata": {},
   "outputs": [
    {
     "name": "stdout",
     "output_type": "stream",
     "text": [
      "<class 'pandas.core.frame.DataFrame'>\n",
      "RangeIndex: 188304 entries, 0 to 188303\n",
      "Data columns (total 12 columns):\n",
      " #   Column           Non-Null Count   Dtype  \n",
      "---  ------           --------------   -----  \n",
      " 0   player_api_id    188304 non-null  int64  \n",
      " 1   player_name      188304 non-null  object \n",
      " 2   birthday         188304 non-null  object \n",
      " 3   overall_rating   188304 non-null  int64  \n",
      " 4   potential        188304 non-null  int64  \n",
      " 5   Date             188304 non-null  object \n",
      " 6   season           188304 non-null  object \n",
      " 7   team_api_id      118688 non-null  float64\n",
      " 8   team_long_name   118688 non-null  object \n",
      " 9   team_short_name  118688 non-null  object \n",
      " 10  country_name     118688 non-null  object \n",
      " 11  league_name      118688 non-null  object \n",
      "dtypes: float64(1), int64(3), object(8)\n",
      "memory usage: 17.2+ MB\n"
     ]
    }
   ],
   "source": [
    "#Проверка загруженных данных\n",
    "Player.info()"
   ]
  },
  {
   "cell_type": "markdown",
   "metadata": {},
   "source": [
    "##### Вывод: \n",
    "Таблица состоит из 188 304 строк и 11 столбцов. \n",
    "В ряде столбцов присутсвуют пропуски, необходимо проведение предобработки данных."
   ]
  },
  {
   "cell_type": "code",
   "execution_count": 66,
   "metadata": {},
   "outputs": [
    {
     "data": {
      "text/html": [
       "<div>\n",
       "<style scoped>\n",
       "    .dataframe tbody tr th:only-of-type {\n",
       "        vertical-align: middle;\n",
       "    }\n",
       "\n",
       "    .dataframe tbody tr th {\n",
       "        vertical-align: top;\n",
       "    }\n",
       "\n",
       "    .dataframe thead th {\n",
       "        text-align: right;\n",
       "    }\n",
       "</style>\n",
       "<table border=\"1\" class=\"dataframe\">\n",
       "  <thead>\n",
       "    <tr style=\"text-align: right;\">\n",
       "      <th></th>\n",
       "      <th>player_api_id</th>\n",
       "      <th>player_name</th>\n",
       "      <th>birthday</th>\n",
       "      <th>overall_rating</th>\n",
       "      <th>potential</th>\n",
       "      <th>Date</th>\n",
       "      <th>season</th>\n",
       "      <th>team_api_id</th>\n",
       "      <th>team_long_name</th>\n",
       "      <th>team_short_name</th>\n",
       "      <th>country_name</th>\n",
       "      <th>league_name</th>\n",
       "    </tr>\n",
       "  </thead>\n",
       "  <tbody>\n",
       "  </tbody>\n",
       "</table>\n",
       "</div>"
      ],
      "text/plain": [
       "Empty DataFrame\n",
       "Columns: [player_api_id, player_name, birthday, overall_rating, potential, Date, season, team_api_id, team_long_name, team_short_name, country_name, league_name]\n",
       "Index: []"
      ]
     },
     "execution_count": 66,
     "metadata": {},
     "output_type": "execute_result"
    }
   ],
   "source": [
    "#Проверка на дубли\n",
    "Player[Player.duplicated()]"
   ]
  },
  {
   "cell_type": "markdown",
   "metadata": {},
   "source": [
    "##### Вывод: \n",
    "Дублирование данных отсутствует."
   ]
  },
  {
   "cell_type": "code",
   "execution_count": 67,
   "metadata": {},
   "outputs": [],
   "source": [
    "Player.dropna(subset=['league_name'], inplace=True)"
   ]
  },
  {
   "cell_type": "markdown",
   "metadata": {},
   "source": [
    "##### Вывод: \n",
    "В ходе анализа выявлено 69 616 пропусков по столбцам содержащим информацию о команде, к которой относится игрок.\n",
    "В связи с этим строки с пропусками удалены."
   ]
  },
  {
   "cell_type": "markdown",
   "metadata": {},
   "source": [
    "#### 3.2 Подготовка базы данных для присоединения к дашборду."
   ]
  },
  {
   "cell_type": "code",
   "execution_count": 68,
   "metadata": {},
   "outputs": [],
   "source": [
    "#Нахождение среднего рейтинга игроков команд в разрезе сезонов\n",
    "df_player = pd.pivot_table(Player, index = ['season', \"team_api_id\", 'team_short_name'], values = ('overall_rating', 'potential'), aggfunc = 'mean')\n",
    "df_player.reset_index(inplace=True)\n",
    "df_player.sort_values(by= ['team_api_id', 'season'], inplace=True)\n",
    "\n",
    "#Cохраняем только нужные для дашборда столбцы\n",
    "data_3 = df_player[['season', 'team_api_id', 'overall_rating', 'potential']]"
   ]
  },
  {
   "cell_type": "code",
   "execution_count": 69,
   "metadata": {},
   "outputs": [],
   "source": [
    "# Объединение трех таблиц для дашборда в одну\n",
    "data_all = pd.merge(data_1, data_2, on = ['team_api_id', 'season'], how = 'left')\n",
    "data_all = pd.merge(data_all, data_3, on = ['team_api_id', 'season'], how = 'left')\n",
    "\n",
    "#Проверка и замена пропусков\n",
    "data_all.isnull().sum()\n",
    "data_all['Team_rating'].fillna(0, inplace = True)"
   ]
  },
  {
   "cell_type": "code",
   "execution_count": 70,
   "metadata": {},
   "outputs": [],
   "source": [
    "#Нормализация ключевых характеристик\n",
    "def min_max(d):\n",
    "    x = d.values.reshape(-1,1)\n",
    "    min_max_scaler = MinMaxScaler()\n",
    "    min_max_scaler.fit(x)\n",
    "    x_min_max_scaled = min_max_scaler.transform(x)\n",
    "    return x_min_max_scaled\n",
    "\n",
    "data_all['coef_1'] = min_max(data_all['avg_score'])\n",
    "data_all['coef_2'] = min_max(data_all['Team_rating'])\n",
    "data_all['coef_3'] = min_max(data_all['overall_rating'])"
   ]
  },
  {
   "cell_type": "code",
   "execution_count": 51,
   "metadata": {},
   "outputs": [],
   "source": [
    "#Сохранение csv файла\n",
    "data_all.to_csv('Data.csv', index = False)"
   ]
  },
  {
   "cell_type": "markdown",
   "metadata": {},
   "source": [
    "### 4. Анализ данных."
   ]
  },
  {
   "cell_type": "code",
   "execution_count": 71,
   "metadata": {},
   "outputs": [
    {
     "data": {
      "text/plain": [
       "Text(0, 0.5, 'Количество матчей')"
      ]
     },
     "execution_count": 71,
     "metadata": {},
     "output_type": "execute_result"
    },
    {
     "data": {
      "image/png": "[encoded data removed]",
      "text/plain": [
       "<Figure size 720x432 with 1 Axes>"
      ]
     },
     "metadata": {
      "needs_background": "light"
     },
     "output_type": "display_data"
    }
   ],
   "source": [
    "#Построение графика распределения результатов домашних матчей\n",
    "Points = Match.Points_home\n",
    "to_replace = {1: \"Ничья\", 3: \"Победа\", 0: \"Поражение\"}\n",
    "Points = Points.replace(to_replace)\n",
    "\n",
    "plt.figure(figsize= (10,6))\n",
    "plt.hist(Points, bins=3)\n",
    "plt.title('Распределение результатов домашних матчей')\n",
    "plt.xlabel(\"Результат матча\")\n",
    "plt.ylabel(\"Количество матчей\")"
   ]
  },
  {
   "cell_type": "markdown",
   "metadata": {},
   "source": [
    "##### Вывод: \n",
    "Распределение результатов домашних матчей является обратным распределением результатов гостевых матчей, поскольку победа в домашнем матче означает поражение в гостевом. \n",
    "\n",
    "Согласно графику распределения, количество побед в домашних матчах, превышает количество побед в гостевых в 1,5 раза. Исходя из этого можно сделать вывод, что место проведения матча для команды является существенным признаком, влияющим на результат."
   ]
  },
  {
   "cell_type": "code",
   "execution_count": 72,
   "metadata": {},
   "outputs": [
    {
     "data": {
      "image/png": "[encoded data removed]",
      "text/plain": [
       "<Figure size 720x432 with 1 Axes>"
      ]
     },
     "metadata": {
      "needs_background": "light"
     },
     "output_type": "display_data"
    }
   ],
   "source": [
    "#Построение графика Рейтинг лиг\n",
    "# Создаем график по рейтингу лиг\n",
    "sorted_data = data_all.groupby('league_name')['league_rating'].agg('mean')\n",
    "sorted_data = sorted_data.reset_index()\n",
    "sorted_data = sorted_data.sort_values(by = 'league_rating', ascending = False)\n",
    "plt.figure(figsize=(10, 6))\n",
    "plt.bar(sorted_data['league_name'], sorted_data['league_rating'], color='skyblue')\n",
    "plt.title('Рейтинг лиг')\n",
    "plt.xlabel('Лига')\n",
    "plt.ylabel('Рейтинг')\n",
    "plt.xticks(rotation=90)\n",
    "\n",
    "# Отображаем график\n",
    "plt.tight_layout()\n",
    "plt.show()"
   ]
  },
  {
   "cell_type": "markdown",
   "metadata": {},
   "source": [
    "##### Вывод: \n",
    "Испанская футбольная лига является самой сильной, самая слабая футбольная лига - польская"
   ]
  },
  {
   "cell_type": "code",
   "execution_count": 73,
   "metadata": {},
   "outputs": [
    {
     "data": {
      "image/png": "[encoded data removed]",
      "text/plain": [
       "<Figure size 720x432 with 1 Axes>"
      ]
     },
     "metadata": {
      "needs_background": "light"
     },
     "output_type": "display_data"
    }
   ],
   "source": [
    "#Построение графика Топ-10 команд по очкам в последний сезон\n",
    "# Сортируем данные по столбцу 'Team_rating' в убывающем порядке\n",
    "sorted_data = data_all[data_all['season'] == '2015/2016']\n",
    "sorted_data = sorted_data.groupby('team_long_name')['Points'].agg('sum')\n",
    "sorted_data = sorted_data.reset_index()\n",
    "sorted_data.sort_values(by='Points', ascending=False, inplace=True)\n",
    "\n",
    "# Выбираем только первые 10 команд в последний сезон\n",
    "top_10_data = sorted_data.head(10)\n",
    "\n",
    "# Создаем график\n",
    "plt.figure(figsize=(10, 6))\n",
    "plt.bar(top_10_data['team_long_name'], top_10_data['Points'], color='skyblue')\n",
    "plt.title('Топ-10 команд по очкам в последний сезон')\n",
    "plt.xlabel('Команда')\n",
    "plt.ylabel('Кол-во очков')\n",
    "plt.xticks(rotation=90)\n",
    "\n",
    "# Отображаем график\n",
    "plt.tight_layout()\n",
    "plt.show()"
   ]
  },
  {
   "cell_type": "markdown",
   "metadata": {},
   "source": [
    "##### Вывод: \n",
    "Наибольшее количество очков в последнем сезоне заработала команда PSG"
   ]
  },
  {
   "cell_type": "code",
   "execution_count": 74,
   "metadata": {},
   "outputs": [
    {
     "data": {
      "image/png": "[encoded data removed]",
      "text/plain": [
       "<Figure size 720x432 with 1 Axes>"
      ]
     },
     "metadata": {
      "needs_background": "light"
     },
     "output_type": "display_data"
    }
   ],
   "source": [
    "#Построение графика количества игр в последнем сезоне\n",
    "# Сортируем данные по столбцу 'Team_rating' в убывающем порядке\n",
    "sorted_data = data_all[data_all['season'] == '2015/2016']\n",
    "sorted_data = sorted_data.groupby('team_long_name')['Count_match'].agg('sum')\n",
    "sorted_data = sorted_data.reset_index()\n",
    "sorted_data.sort_values(by='Count_match', ascending=False, inplace=True)\n",
    "\n",
    "\n",
    "# Создаем график\n",
    "plt.figure(figsize=(10, 6))\n",
    "plt.bar(sorted_data['Count_match'], sorted_data['Count_match'], color='skyblue')\n",
    "plt.title('Распределение количества игр в последнем сезоне')\n",
    "plt.xlabel('Количество матчей')\n",
    "plt.ylabel('Количество команд')\n",
    "plt.xticks(rotation=90)\n",
    "\n",
    "# Отображаем график\n",
    "plt.tight_layout()\n",
    "plt.show()"
   ]
  },
  {
   "cell_type": "markdown",
   "metadata": {},
   "source": [
    "##### Вывод: \n",
    "Большинство команд в последнем сезоне сыграло 38, 36, 34 и 30 матчей. Наименьшая доля команд сыграла 32 матча."
   ]
  },
  {
   "cell_type": "code",
   "execution_count": 75,
   "metadata": {},
   "outputs": [
    {
     "data": {
      "image/png": "[encoded data removed]",
      "text/plain": [
       "<Figure size 720x432 with 1 Axes>"
      ]
     },
     "metadata": {
      "needs_background": "light"
     },
     "output_type": "display_data"
    }
   ],
   "source": [
    "#Построение графика Топ-10 команд по рейтингу игроков\n",
    "# Сортируем данные по столбцу 'overall_rating' в убывающем порядке\n",
    "sorted_data = data_all[data_all['season'] == '2015/2016']\n",
    "sorted_data = sorted_data.groupby('team_long_name')['overall_rating'].agg('mean')\n",
    "sorted_data = sorted_data.reset_index()\n",
    "sorted_data.sort_values(by='overall_rating', ascending=False, inplace=True)\n",
    "\n",
    "# Выбираем только первые 10 команд в последний сезон\n",
    "top_10_data = sorted_data.head(10)\n",
    "\n",
    "# Создаем график\n",
    "plt.figure(figsize=(10, 6))\n",
    "plt.bar(top_10_data['team_long_name'], top_10_data['overall_rating'], color='skyblue')\n",
    "plt.title('Топ-10 команд по рейтингу игроков')\n",
    "plt.xlabel('Команда')\n",
    "plt.ylabel('Рейтинг по игрокам')\n",
    "plt.xticks(rotation=90)\n",
    "\n",
    "# Отображаем график\n",
    "plt.tight_layout()\n",
    "plt.show()"
   ]
  },
  {
   "cell_type": "markdown",
   "metadata": {},
   "source": [
    "##### Вывод: \n",
    "В командах FC Bayern Munich и FC Barcelona наивысший средний балл игроков. "
   ]
  },
  {
   "cell_type": "code",
   "execution_count": 76,
   "metadata": {},
   "outputs": [
    {
     "data": {
      "text/plain": [
       "<AxesSubplot:>"
      ]
     },
     "execution_count": 76,
     "metadata": {},
     "output_type": "execute_result"
    },
    {
     "data": {
      "image/png": "[encoded data removed]",
      "text/plain": [
       "<Figure size 432x288 with 2 Axes>"
      ]
     },
     "metadata": {
      "needs_background": "light"
     },
     "output_type": "display_data"
    }
   ],
   "source": [
    "#Построение корреляционной матрицы\n",
    "\n",
    "#Корректируем баллы за сезон на рейтинг лиги\n",
    "data_all['Points_total'] = data_all.apply(lambda row:row['Points']*row['league_rating'],\n",
    "                                 axis=1)\n",
    "\n",
    "# Сортируйте DataFrame по team_api_id и season\n",
    "data_all = data_all.sort_values(by=['team_api_id', 'Place', 'season'])\n",
    "\n",
    "# Используем метод shift для создания нового столбца со значениями Points_total из следущего сезона\n",
    "data_all['future_points'] = data_all.groupby(['team_api_id', 'Place'])['Points_total'].shift(-1)\n",
    "\n",
    "#Строим корреляцию\n",
    "sns.heatmap(data_all[['future_points', 'avg_score', 'Team_rating', 'overall_rating', 'potential']].corr(), \n",
    "            annot=True, cmap='winter', linewidths=0.5)"
   ]
  },
  {
   "cell_type": "markdown",
   "metadata": {},
   "source": [
    "##### Вывод: \n",
    "В рамках корреляционного анализа были сопоставлены рассчитанные метрики команд текущего сезона со значениями полученных командами очков в следующем сезоне для установления взаимосвязи и проверки метрик на значимость. \n",
    "\n",
    "Результативный признак (future_points) в наибольшей степни коррелирует с фактором среднее количество очков за матч, скорректированное на рейтинг лиги (avg_score), значение коэффицента корреляции = 0,74 - связь высокая. \n",
    "\n",
    "Также наблюдается корреляция с факторами: средний балл игроков команды (overall_rating) и средний потенциал игроков команды (potential). Значения коэффицентов коореляции (0.6) свидетельствуют о средней силе связи. \n",
    "\n",
    "Вместе с тем, факторы potential и overall_rating сильно коррелируют друг с другом (коэффицент корреляции = 0.96), из чего возникает проблема мультиколлинеарности, которая приводит к увеличению статистической неопределенности и росту дисперсии оценок параметров. В связи с этим фактор potential не включается в модель.\n",
    "\n",
    "Второй ключевой показатель - средний балл команды (Team_rating) очень слабо коррелирует с результативным признаком - 0.014. Можно сделать вывод о незначимости параметра и нецелесообразности включения его в модель.\n",
    "\n",
    "Таким образом, для дальнейшего анализа будут использованы следующие факторы: среднее количество очков за матч, скорректированное на рейтинг лиги (avg_score = coef_1) и средний балл игроков команды (overall_rating = coef_3)"
   ]
  }
 ],
 "metadata": {
  "kernelspec": {
   "display_name": "Python 3",
   "language": "python",
   "name": "python3"
  },
  "language_info": {
   "codemirror_mode": {
    "name": "ipython",
    "version": 3
   },
   "file_extension": ".py",
   "mimetype": "text/x-python",
   "name": "python",
   "nbconvert_exporter": "python",
   "pygments_lexer": "ipython3",
   "version": "3.8.5"
  }
 },
 "nbformat": 4,
 "nbformat_minor": 4
}
